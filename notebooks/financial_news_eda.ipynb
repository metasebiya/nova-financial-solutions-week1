{
 "cells": [
  {
   "metadata": {},
   "cell_type": "markdown",
   "source": [
    "# Exploratory Data Analysis for Financial Data at Nova Financial Solutions\n",
    "## 1. Import Libraries and utility functions"
   ],
   "id": "acabf3ff9fcc0f9e"
  },
  {
   "metadata": {},
   "cell_type": "code",
   "source": [
    "import sys\n",
    "import os\n",
    "import pandas as pd\n",
    "\n",
    "notebook_dir = os.getcwd()  # Get current working directory (notebooks folder)\n",
    "project_dir = os.path.abspath(os.path.join(notebook_dir, '..'))  # Go up one level\n",
    "scripts_dir = os.path.join(project_dir, 'src')  # Path to scripts\n",
    "sys.path.append(scripts_dir)\n"
   ],
   "id": "initial_id",
   "outputs": [],
   "execution_count": null
  },
  {
   "metadata": {},
   "cell_type": "code",
   "source": [
    "from IPython.display import display\n",
    "from load_data import load_data"
   ],
   "id": "dffd425b5c70c17",
   "outputs": [],
   "execution_count": null
  },
  {
   "metadata": {},
   "cell_type": "code",
   "source": [
    "import importlib\n",
    "import eda_data\n",
    "importlib.reload(eda_data)\n",
    "from eda_data import (data_overview, descriptive_statistics, text_analysis, time_series_analysis, publisher_analysis)"
   ],
   "id": "a2d7434aa14bb712",
   "outputs": [],
   "execution_count": null
  },
  {
   "metadata": {},
   "cell_type": "markdown",
   "source": "## 2. Importing Financial News and Stock Price Integration Data",
   "id": "c3ec0f8869551f88"
  },
  {
   "metadata": {},
   "cell_type": "code",
   "source": [
    "# Load data\n",
    "df = load_data('../data/raw/raw_analyst_ratings.csv')"
   ],
   "id": "bf93ab1ea4c2f6ee",
   "outputs": [],
   "execution_count": null
  },
  {
   "metadata": {},
   "cell_type": "markdown",
   "source": "## 3. Data Overviewing",
   "id": "b0c4fad713b08812"
  },
  {
   "metadata": {},
   "cell_type": "code",
   "source": [
    "overview = data_overview(df)\n",
    "print(overview)"
   ],
   "id": "aaf21fe635e5a696",
   "outputs": [],
   "execution_count": null
  },
  {
   "metadata": {},
   "cell_type": "code",
   "source": [
    "#Droping unamed column\n",
    "df = df.drop(columns=['Unnamed: 0'], inplace=True)"
   ],
   "id": "46200af260503a39",
   "outputs": [],
   "execution_count": null
  },
  {
   "metadata": {},
   "cell_type": "markdown",
   "source": "## 1. Descriptive Statistics",
   "id": "4c8b6c1bc10641e7"
  },
  {
   "metadata": {},
   "cell_type": "code",
   "source": "ds = descriptive_statistics(df)",
   "id": "645bee11e5df3583",
   "outputs": [],
   "execution_count": null
  },
  {
   "metadata": {},
   "cell_type": "code",
   "source": [
    "#Headline length description\n",
    "print(\"Headline Length\",ds['headline_length'])"
   ],
   "id": "7645b10a5f26b2a7",
   "outputs": [],
   "execution_count": null
  },
  {
   "metadata": {},
   "cell_type": "code",
   "source": [
    "#Active publishers description\n",
    "print(\"active_publishers\",ds['active_publishers'])"
   ],
   "id": "5319721f61f7f26e",
   "outputs": [],
   "execution_count": null
  },
  {
   "metadata": {},
   "cell_type": "code",
   "source": [
    "# Frequency per day\n",
    "print(\"date_counts\",ds['date_counts'])"
   ],
   "id": "db6c92057992e86f",
   "outputs": [],
   "execution_count": null
  },
  {
   "metadata": {},
   "cell_type": "code",
   "source": [
    "# Frequency per hr\n",
    "print(\"time_counts\", ds['time_counts'])"
   ],
   "id": "337cc89f7939f1ae",
   "outputs": [],
   "execution_count": null
  },
  {
   "metadata": {},
   "cell_type": "markdown",
   "source": "## 2. Text Analysis",
   "id": "d804e06572a88fad"
  },
  {
   "metadata": {
    "jupyter": {
     "is_executing": true
    }
   },
   "cell_type": "code",
   "source": [
    "# Text analysis\n",
    "txt_analysis = text_analysis(df)\n",
    "print(txt_analysis)"
   ],
   "id": "e155a0249397f0ef",
   "outputs": [],
   "execution_count": null
  },
  {
   "metadata": {},
   "cell_type": "markdown",
   "source": "## 3. Time Series Analysis",
   "id": "a0dbe7221d116352"
  },
  {
   "metadata": {},
   "cell_type": "code",
   "source": [
    "#Time series analysis\n",
    "fig1, fig2 = time_series_analysis(df)\n",
    "display(fig1)\n",
    "display(fig2)"
   ],
   "id": "8818dd5645389a51",
   "outputs": [],
   "execution_count": null
  },
  {
   "metadata": {},
   "cell_type": "markdown",
   "source": "## 4. Publisher Analysis\n",
   "id": "38eca6312b6cb50e"
  },
  {
   "metadata": {},
   "cell_type": "code",
   "outputs": [],
   "execution_count": null,
   "source": [
    "#Publisher Analysis\n",
    "fig1 = publisher_analysis(df)\n",
    "display(fig1)"
   ],
   "id": "cc77de69c982429e"
  }
 ],
 "metadata": {
  "kernelspec": {
   "display_name": "Python 3",
   "language": "python",
   "name": "python3"
  },
  "language_info": {
   "codemirror_mode": {
    "name": "ipython",
    "version": 2
   },
   "file_extension": ".py",
   "mimetype": "text/x-python",
   "name": "python",
   "nbconvert_exporter": "python",
   "pygments_lexer": "ipython2",
   "version": "2.7.6"
  }
 },
 "nbformat": 4,
 "nbformat_minor": 5
}
