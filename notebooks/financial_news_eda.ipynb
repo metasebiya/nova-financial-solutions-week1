{
 "cells": [
  {
   "cell_type": "markdown",
   "id": "acabf3ff9fcc0f9e",
   "metadata": {},
   "source": [
    "# Exploratory Data Analysis for Financial Data at Nova Financial Solutions\n",
    "## 1. Import Libraries and utility functions"
   ]
  },
  {
   "cell_type": "code",
   "execution_count": 1,
   "id": "initial_id",
   "metadata": {},
   "outputs": [],
   "source": [
    "import sys\n",
    "import os\n",
    "\n",
    "notebook_dir = os.getcwd()  # Get current working directory (notebooks folder)\n",
    "project_dir = os.path.abspath(os.path.join(notebook_dir, '..'))  # Go up one level\n",
    "scripts_dir = os.path.join(project_dir, 'src')  # Path to scripts\n",
    "sys.path.append(scripts_dir)\n"
   ]
  },
  {
   "cell_type": "code",
   "execution_count": 2,
   "id": "dffd425b5c70c17",
   "metadata": {},
   "outputs": [],
   "source": [
    "from IPython.display import display\n",
    "from load_data import load_data\n",
    "import pandas as pd"
   ]
  },
  {
   "cell_type": "code",
   "execution_count": 3,
   "id": "a2d7434aa14bb712",
   "metadata": {},
   "outputs": [],
   "source": [
    "import importlib\n",
    "import eda_data\n",
    "importlib.reload(eda_data)\n",
    "from eda_data import (data_overview, descriptive_statistics, text_analysis, time_series_analysis, publisher_analysis)"
   ]
  },
  {
   "cell_type": "markdown",
   "id": "c3ec0f8869551f88",
   "metadata": {},
   "source": [
    "## 2. Importing Financial News and Stock Price Integration Data"
   ]
  },
  {
   "cell_type": "code",
   "execution_count": 4,
   "id": "bf93ab1ea4c2f6ee",
   "metadata": {},
   "outputs": [],
   "source": [
    "# Load data\n",
    "df = load_data('../data/raw/raw_analyst_ratings.csv')"
   ]
  },
  {
   "cell_type": "markdown",
   "id": "b0c4fad713b08812",
   "metadata": {},
   "source": [
    "## 3. Data Overviewing"
   ]
  },
  {
   "cell_type": "code",
   "execution_count": 5,
   "id": "aaf21fe635e5a696",
   "metadata": {},
   "outputs": [
    {
     "name": "stdout",
     "output_type": "stream",
     "text": [
      "<class 'pandas.core.frame.DataFrame'>\n",
      "RangeIndex: 1407328 entries, 0 to 1407327\n",
      "Data columns (total 6 columns):\n",
      " #   Column      Non-Null Count    Dtype \n",
      "---  ------      --------------    ----- \n",
      " 0   Unnamed: 0  1407328 non-null  int64 \n",
      " 1   headline    1407328 non-null  object\n",
      " 2   url         1407328 non-null  object\n",
      " 3   publisher   1407328 non-null  object\n",
      " 4   date        1407328 non-null  object\n",
      " 5   stock       1407328 non-null  object\n",
      "dtypes: int64(1), object(5)\n",
      "memory usage: 64.4+ MB\n",
      "{'info': None, 'type': Unnamed: 0     int64\n",
      "headline      object\n",
      "url           object\n",
      "publisher     object\n",
      "date          object\n",
      "stock         object\n",
      "dtype: object, 'shape': (1407328, 6), 'isnull': Unnamed: 0    0\n",
      "headline      0\n",
      "url           0\n",
      "publisher     0\n",
      "date          0\n",
      "stock         0\n",
      "dtype: int64}\n"
     ]
    }
   ],
   "source": [
    "overview = data_overview(df)\n",
    "print(overview)"
   ]
  },
  {
   "cell_type": "code",
   "execution_count": 6,
   "id": "46200af260503a39",
   "metadata": {},
   "outputs": [
    {
     "data": {
      "text/html": [
       "<div>\n",
       "<style scoped>\n",
       "    .dataframe tbody tr th:only-of-type {\n",
       "        vertical-align: middle;\n",
       "    }\n",
       "\n",
       "    .dataframe tbody tr th {\n",
       "        vertical-align: top;\n",
       "    }\n",
       "\n",
       "    .dataframe thead th {\n",
       "        text-align: right;\n",
       "    }\n",
       "</style>\n",
       "<table border=\"1\" class=\"dataframe\">\n",
       "  <thead>\n",
       "    <tr style=\"text-align: right;\">\n",
       "      <th></th>\n",
       "      <th>headline</th>\n",
       "      <th>url</th>\n",
       "      <th>publisher</th>\n",
       "      <th>date</th>\n",
       "      <th>stock</th>\n",
       "    </tr>\n",
       "  </thead>\n",
       "  <tbody>\n",
       "    <tr>\n",
       "      <th>0</th>\n",
       "      <td>Stocks That Hit 52-Week Highs On Friday</td>\n",
       "      <td>https://www.benzinga.com/news/20/06/16190091/s...</td>\n",
       "      <td>Benzinga Insights</td>\n",
       "      <td>2020-06-05 10:30:54-04:00</td>\n",
       "      <td>A</td>\n",
       "    </tr>\n",
       "    <tr>\n",
       "      <th>1</th>\n",
       "      <td>Stocks That Hit 52-Week Highs On Wednesday</td>\n",
       "      <td>https://www.benzinga.com/news/20/06/16170189/s...</td>\n",
       "      <td>Benzinga Insights</td>\n",
       "      <td>2020-06-03 10:45:20-04:00</td>\n",
       "      <td>A</td>\n",
       "    </tr>\n",
       "    <tr>\n",
       "      <th>2</th>\n",
       "      <td>71 Biggest Movers From Friday</td>\n",
       "      <td>https://www.benzinga.com/news/20/05/16103463/7...</td>\n",
       "      <td>Lisa Levin</td>\n",
       "      <td>2020-05-26 04:30:07-04:00</td>\n",
       "      <td>A</td>\n",
       "    </tr>\n",
       "    <tr>\n",
       "      <th>3</th>\n",
       "      <td>46 Stocks Moving In Friday's Mid-Day Session</td>\n",
       "      <td>https://www.benzinga.com/news/20/05/16095921/4...</td>\n",
       "      <td>Lisa Levin</td>\n",
       "      <td>2020-05-22 12:45:06-04:00</td>\n",
       "      <td>A</td>\n",
       "    </tr>\n",
       "    <tr>\n",
       "      <th>4</th>\n",
       "      <td>B of A Securities Maintains Neutral on Agilent...</td>\n",
       "      <td>https://www.benzinga.com/news/20/05/16095304/b...</td>\n",
       "      <td>Vick Meyer</td>\n",
       "      <td>2020-05-22 11:38:59-04:00</td>\n",
       "      <td>A</td>\n",
       "    </tr>\n",
       "  </tbody>\n",
       "</table>\n",
       "</div>"
      ],
      "text/plain": [
       "                                            headline  \\\n",
       "0            Stocks That Hit 52-Week Highs On Friday   \n",
       "1         Stocks That Hit 52-Week Highs On Wednesday   \n",
       "2                      71 Biggest Movers From Friday   \n",
       "3       46 Stocks Moving In Friday's Mid-Day Session   \n",
       "4  B of A Securities Maintains Neutral on Agilent...   \n",
       "\n",
       "                                                 url          publisher  \\\n",
       "0  https://www.benzinga.com/news/20/06/16190091/s...  Benzinga Insights   \n",
       "1  https://www.benzinga.com/news/20/06/16170189/s...  Benzinga Insights   \n",
       "2  https://www.benzinga.com/news/20/05/16103463/7...         Lisa Levin   \n",
       "3  https://www.benzinga.com/news/20/05/16095921/4...         Lisa Levin   \n",
       "4  https://www.benzinga.com/news/20/05/16095304/b...         Vick Meyer   \n",
       "\n",
       "                        date stock  \n",
       "0  2020-06-05 10:30:54-04:00     A  \n",
       "1  2020-06-03 10:45:20-04:00     A  \n",
       "2  2020-05-26 04:30:07-04:00     A  \n",
       "3  2020-05-22 12:45:06-04:00     A  \n",
       "4  2020-05-22 11:38:59-04:00     A  "
      ]
     },
     "execution_count": 6,
     "metadata": {},
     "output_type": "execute_result"
    }
   ],
   "source": [
    "#Droping unamed column\n",
    "df = df.drop(columns=['Unnamed: 0'])\n",
    "df.head()"
   ]
  },
  {
   "cell_type": "markdown",
   "id": "4c8b6c1bc10641e7",
   "metadata": {},
   "source": [
    "## 1. Descriptive Statistics"
   ]
  },
  {
   "cell_type": "code",
   "execution_count": 7,
   "id": "645bee11e5df3583",
   "metadata": {},
   "outputs": [],
   "source": [
    "ds = descriptive_statistics(df)"
   ]
  },
  {
   "cell_type": "code",
   "execution_count": 8,
   "id": "7645b10a5f26b2a7",
   "metadata": {},
   "outputs": [
    {
     "name": "stdout",
     "output_type": "stream",
     "text": [
      "Headline Length count    1.407328e+06\n",
      "mean     7.312051e+01\n",
      "std      4.073531e+01\n",
      "min      3.000000e+00\n",
      "25%      4.700000e+01\n",
      "50%      6.400000e+01\n",
      "75%      8.700000e+01\n",
      "max      5.120000e+02\n",
      "Name: headline_length, dtype: float64\n"
     ]
    }
   ],
   "source": [
    "#Headline length description\n",
    "print(\"Headline Length\",ds['headline_length'])"
   ]
  },
  {
   "cell_type": "code",
   "execution_count": 9,
   "id": "5319721f61f7f26e",
   "metadata": {},
   "outputs": [
    {
     "name": "stdout",
     "output_type": "stream",
     "text": [
      "active_publishers count      1034.000000\n",
      "mean       1361.052224\n",
      "std       11501.954263\n",
      "min           1.000000\n",
      "25%           3.000000\n",
      "50%          11.000000\n",
      "75%          93.500000\n",
      "max      228373.000000\n",
      "Name: count, dtype: float64\n"
     ]
    }
   ],
   "source": [
    "#Active publishers description\n",
    "print(\"active_publishers\",ds['active_publishers'])"
   ]
  },
  {
   "cell_type": "code",
   "execution_count": 10,
   "id": "db6c92057992e86f",
   "metadata": {},
   "outputs": [
    {
     "name": "stdout",
     "output_type": "stream",
     "text": [
      "date_counts date_trend\n",
      "2009-02-14      1\n",
      "2009-04-27      2\n",
      "2009-04-29      1\n",
      "2009-05-22      1\n",
      "2009-05-27      6\n",
      "             ... \n",
      "2020-06-07     25\n",
      "2020-06-08    765\n",
      "2020-06-09    803\n",
      "2020-06-10    807\n",
      "2020-06-11    544\n",
      "Name: count, Length: 3955, dtype: int64\n"
     ]
    }
   ],
   "source": [
    "# Frequency per day\n",
    "print(\"date_counts\",ds['date_counts'])"
   ]
  },
  {
   "cell_type": "code",
   "execution_count": 11,
   "id": "337cc89f7939f1ae",
   "metadata": {},
   "outputs": [
    {
     "name": "stdout",
     "output_type": "stream",
     "text": [
      "time_counts hour_trend\n",
      "0     1351472\n",
      "1          82\n",
      "2          48\n",
      "3          27\n",
      "4          67\n",
      "5          14\n",
      "6          57\n",
      "7          93\n",
      "8        1469\n",
      "9        1829\n",
      "10       2476\n",
      "11       5033\n",
      "12       5527\n",
      "13       5965\n",
      "14       7669\n",
      "15       5701\n",
      "16       5732\n",
      "17       2710\n",
      "18       2075\n",
      "19       1612\n",
      "20       3939\n",
      "21       2800\n",
      "22        704\n",
      "23        227\n",
      "Name: count, dtype: int64\n"
     ]
    }
   ],
   "source": [
    "# Frequency per hr\n",
    "print(\"time_counts\", ds['time_counts'])"
   ]
  },
  {
   "cell_type": "markdown",
   "id": "d804e06572a88fad",
   "metadata": {},
   "source": [
    "## 2. Text Analysis"
   ]
  },
  {
   "cell_type": "code",
   "execution_count": 12,
   "id": "e155a0249397f0ef",
   "metadata": {},
   "outputs": [
    {
     "name": "stdout",
     "output_type": "stream",
     "text": [
      "{'noun_phrases': [('vs $', 53977), (\"benzinga 's\", 43860), ('announces $', 23971), ('raises pt', 21124), ('top upgrades', 21108), ('eps $', 15098), ('52-week highs', 14638), ('raises price target', 14562)], 'combined_keywords': [('vs $', 53977), (\"benzinga 's\", 43860), ('announces $', 23971), ('raises pt', 21124), ('top upgrades', 21108), ('eps $', 15098), ('52-week highs', 14638), ('raises price target', 14562)], 'error_message': []}\n"
     ]
    }
   ],
   "source": [
    "# Text analysis\n",
    "txt_analysis = text_analysis(df)\n",
    "print(txt_analysis)"
   ]
  },
  {
   "cell_type": "markdown",
   "id": "a0dbe7221d116352",
   "metadata": {},
   "source": [
    "## 3. Time Series Analysis"
   ]
  },
  {
   "cell_type": "code",
   "execution_count": 16,
   "id": "8818dd5645389a51",
   "metadata": {},
   "outputs": [
    {
     "name": "stdout",
     "output_type": "stream",
     "text": [
      "month\n",
      "April        121813\n",
      "August       124041\n",
      "December     105123\n",
      "February     122836\n",
      "January      121545\n",
      "July         110764\n",
      "June         106598\n",
      "March        121949\n",
      "May          130340\n",
      "November     121430\n",
      "October      124800\n",
      "September     96089\n",
      "Name: count, dtype: int64\n"
     ]
    }
   ],
   "source": [
    "#Time series analysis\n",
    "daily_freq, hourly_freq, day_freq, month_freq = time_series_analysis(df)\n",
    "print(month_freq)"
   ]
  },
  {
   "cell_type": "markdown",
   "id": "38eca6312b6cb50e",
   "metadata": {},
   "source": [
    "## 4. Publisher Analysis\n"
   ]
  },
  {
   "cell_type": "code",
   "execution_count": 14,
   "id": "cc77de69c982429e",
   "metadata": {},
   "outputs": [
    {
     "name": "stderr",
     "output_type": "stream",
     "text": [
      "c:\\Users\\hp\\Documents\\10\\nova-financial-solutions-week1\\src\\eda_data.py:213: SettingWithCopyWarning: \n",
      "A value is trying to be set on a copy of a slice from a DataFrame.\n",
      "Try using .loc[row_indexer,col_indexer] = value instead\n",
      "\n",
      "See the caveats in the documentation: https://pandas.pydata.org/pandas-docs/stable/user_guide/indexing.html#returning-a-view-versus-a-copy\n",
      "  email_publishers['domain'] = email_publishers['publisher'].apply(\n"
     ]
    },
    {
     "name": "stdout",
     "output_type": "stream",
     "text": [
      "{'top_publishers': publisher\n",
      "Paul Quintaro        228373\n",
      "Lisa Levin           186979\n",
      "Benzinga Newsdesk    150484\n",
      "Charles Gross         96732\n",
      "Monica Gerson         82380\n",
      "Eddie Staley          57254\n",
      "Hal Lindon            49047\n",
      "ETF Professor         28489\n",
      "Juan Lopez            28438\n",
      "Benzinga Staff        28114\n",
      "Name: count, dtype: int64, 'top_domains': domain\n",
      "benzinga.com              7937\n",
      "gmail.com                  139\n",
      "andyswan.com                 5\n",
      "investdiva.com               2\n",
      "tothetick.com                2\n",
      "eosdetroit.io                1\n",
      "forextraininggroup.com       1\n",
      "stockmetrix.net              1\n",
      "Name: count, dtype: int64}\n"
     ]
    }
   ],
   "source": [
    "#Publisher Analysis\n",
    "pub_analysis = publisher_analysis(df)\n",
    "print(pub_analysis)"
   ]
  }
 ],
 "metadata": {
  "kernelspec": {
   "display_name": ".venv",
   "language": "python",
   "name": "python3"
  },
  "language_info": {
   "codemirror_mode": {
    "name": "ipython",
    "version": 3
   },
   "file_extension": ".py",
   "mimetype": "text/x-python",
   "name": "python",
   "nbconvert_exporter": "python",
   "pygments_lexer": "ipython3",
   "version": "3.12.4"
  }
 },
 "nbformat": 4,
 "nbformat_minor": 5
}
